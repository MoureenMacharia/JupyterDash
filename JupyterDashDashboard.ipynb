{
 "cells": [
  {
   "cell_type": "code",
   "execution_count": 2,
   "id": "9fc17c8e",
   "metadata": {},
   "outputs": [],
   "source": [
    "from jupyter_dash import JupyterDash\n",
    "from dash import dcc, html, Input, Output\n",
    "import yfinance as yf\n",
    "import plotly.express as px"
   ]
  },
  {
   "cell_type": "code",
   "execution_count": 4,
   "id": "f68c7851",
   "metadata": {},
   "outputs": [
    {
     "name": "stderr",
     "output_type": "stream",
     "text": [
      "C:\\ProgramData\\Anaconda3\\lib\\site-packages\\dash\\dash.py:538: UserWarning:\n",
      "\n",
      "JupyterDash is deprecated, use Dash instead.\n",
      "See https://dash.plotly.com/dash-in-jupyter for more details.\n",
      "\n"
     ]
    }
   ],
   "source": [
    "app = JupyterDash(__name__)"
   ]
  },
  {
   "cell_type": "code",
   "execution_count": 6,
   "id": "b69f890c",
   "metadata": {},
   "outputs": [],
   "source": [
    "app.layout = html.Div([\n",
    "    html.H1(\"Stock Price Analysis Dashboard\"),\n",
    "    \n",
    "    html.Label(\"Select Stock Symbol:\"),\n",
    "    dcc.Dropdown(\n",
    "        id='stock-selector',\n",
    "        options=[\n",
    "            {'label':'AAPL','value':'AAPL'},\n",
    "            {'label':'GOOGL','value':'GOOGL'},\n",
    "            {'label':'MSFT','value':'MSFT'},\n",
    "        ],\n",
    "        value='AAPL'\n",
    "    ),\n",
    "    \n",
    "    dcc.Graph(id='stock-price-chart')\n",
    "])"
   ]
  },
  {
   "cell_type": "code",
   "execution_count": 7,
   "id": "1ddea15f",
   "metadata": {},
   "outputs": [],
   "source": [
    "@app.callback(\n",
    "    Output('stock-price-chart', 'figure'),\n",
    "    [Input('stock-selector', 'value')]\n",
    ")\n",
    "def update_chart(selected_stock):\n",
    "    stock_data = yf.download(selected_stock, start='2022-01-01',end='2023-01-01')\n",
    "    fig = px.line(stock_data, x=stock_data.index, y='Close', title=f'{selected_stock} Stock Price Analysis')\n",
    "    return fig"
   ]
  },
  {
   "cell_type": "code",
   "execution_count": 8,
   "id": "7755fbb9",
   "metadata": {},
   "outputs": [
    {
     "data": {
      "text/html": [
       "\n",
       "        <iframe\n",
       "            width=\"100%\"\n",
       "            height=\"650\"\n",
       "            src=\"http://127.0.0.1:8050/\"\n",
       "            frameborder=\"0\"\n",
       "            allowfullscreen\n",
       "        ></iframe>\n",
       "        "
      ],
      "text/plain": [
       "<IPython.lib.display.IFrame at 0x1382a955f40>"
      ]
     },
     "metadata": {},
     "output_type": "display_data"
    },
    {
     "name": "stdout",
     "output_type": "stream",
     "text": [
      "Dash app running on http://127.0.0.1:8050/\n"
     ]
    },
    {
     "name": "stderr",
     "output_type": "stream",
     "text": [
      "[*********************100%%**********************]  1 of 1 completed\n",
      "[*********************100%%**********************]  1 of 1 completed\n",
      "[*********************100%%**********************]  1 of 1 completed\n",
      "[*********************100%%**********************]  1 of 1 completed\n"
     ]
    }
   ],
   "source": [
    "if __name__ == '__main__':\n",
    "    app.run_server(port=8050,mode='external')"
   ]
  },
  {
   "cell_type": "code",
   "execution_count": null,
   "id": "3e0ef94f",
   "metadata": {},
   "outputs": [],
   "source": []
  }
 ],
 "metadata": {
  "kernelspec": {
   "display_name": "Python 3 (ipykernel)",
   "language": "python",
   "name": "python3"
  },
  "language_info": {
   "codemirror_mode": {
    "name": "ipython",
    "version": 3
   },
   "file_extension": ".py",
   "mimetype": "text/x-python",
   "name": "python",
   "nbconvert_exporter": "python",
   "pygments_lexer": "ipython3",
   "version": "3.8.3"
  }
 },
 "nbformat": 4,
 "nbformat_minor": 5
}
